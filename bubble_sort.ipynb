{
 "cells": [
  {
   "cell_type": "code",
   "execution_count": 1,
   "id": "d7a8036f",
   "metadata": {},
   "outputs": [
    {
     "name": "stdout",
     "output_type": "stream",
     "text": [
      "pygame 2.1.2 (SDL 2.0.16, Python 3.10.4)\n",
      "Hello from the pygame community. https://www.pygame.org/contribute.html\n"
     ]
    }
   ],
   "source": [
    "import random\n",
    "import pygame\n",
    "import time\n",
    "pygame.font.init()  "
   ]
  },
  {
   "cell_type": "code",
   "execution_count": 2,
   "id": "9db2e913",
   "metadata": {},
   "outputs": [],
   "source": [
    "def gen_arr(l):\n",
    "    random.seed(random.randint(0,100))\n",
    "    arr = []\n",
    "    for i in range(l):\n",
    "        arr.append(random.randint(0,l*5))\n",
    "    return arr"
   ]
  },
  {
   "cell_type": "code",
   "execution_count": 3,
   "id": "c42258a0",
   "metadata": {},
   "outputs": [],
   "source": [
    "def draw(arr,c):\n",
    "    #pygame.draw.line(screen, (166,166,166), (0,50), (900,50), 2)\n",
    "    screen.fill((55, 55, 55))\n",
    "    pygame.display.update()\n",
    "    width = int(900/len(arr))\n",
    "    l = len(arr)\n",
    "    for i in range(l):\n",
    "        if(c == -1):\n",
    "            pygame.draw.line(screen, (200,200,200), (i*width,650), (i*width,650-int(600*arr[i]/(l*5))), width)\n",
    "        elif(i == c):\n",
    "            pygame.draw.line(screen, (222,22,66), (i*width,650), (i*width,650-int(600*arr[i]/(l*5))), width)\n",
    "        else:\n",
    "            pygame.draw.line(screen, (66,22,222), (i*width,650), (i*width,650-int(600*arr[i]/(l*5))), width)\n",
    "    pygame.display.update()\n",
    "    pygame.time.delay(20)"
   ]
  },
  {
   "cell_type": "code",
   "execution_count": 4,
   "id": "da031975",
   "metadata": {},
   "outputs": [],
   "source": [
    "def bubble_sort_step(arr,j):\n",
    "    if(arr[j] > arr[j+1]):\n",
    "        draw(arr,j+1)\n",
    "        temp = arr[j]\n",
    "        arr[j] = arr[j+1]\n",
    "        arr[j+1] = temp\n",
    "        draw(arr,j)\n",
    "    return arr"
   ]
  },
  {
   "cell_type": "code",
   "execution_count": 5,
   "id": "9fc85133",
   "metadata": {},
   "outputs": [],
   "source": [
    "def bubble_sort(arr):\n",
    "    l = len(arr)\n",
    "    for i in range(l):\n",
    "        for j in range(l-i-1):\n",
    "            arr = bubble_sort_step(arr,j)\n",
    "    draw(arr,-1)\n",
    "    pygame.time.delay(3000)\n",
    "    return arr"
   ]
  },
  {
   "cell_type": "code",
   "execution_count": 6,
   "id": "3dd4a867",
   "metadata": {},
   "outputs": [
    {
     "name": "stdout",
     "output_type": "stream",
     "text": [
      "[135, 91, 149, 7, 215, 58, 230, 7, 225, 99, 93, 244, 242, 16, 108, 244, 78, 87, 24, 149, 130, 210, 39, 24, 70, 88, 156, 0, 198, 39, 192, 134, 22, 205, 15, 94, 65, 189, 141, 180, 214, 15, 204, 99, 239, 42, 150, 223, 162, 79]\n"
     ]
    }
   ],
   "source": [
    "arr = gen_arr(50)\n",
    "print(arr)"
   ]
  },
  {
   "cell_type": "code",
   "execution_count": 7,
   "id": "8579ead6",
   "metadata": {},
   "outputs": [
    {
     "data": {
      "text/plain": [
       "4000"
      ]
     },
     "execution_count": 7,
     "metadata": {},
     "output_type": "execute_result"
    }
   ],
   "source": [
    "screen = pygame.display.set_mode((900,650)) \n",
    "pygame.display.set_caption(\"SELECTION SORTING VISUALISER\")\n",
    "screen.fill((55, 55, 55))\n",
    "pygame.display.update()\n",
    "pygame.time.delay(4000)"
   ]
  },
  {
   "cell_type": "code",
   "execution_count": 8,
   "id": "d04c4fef",
   "metadata": {},
   "outputs": [],
   "source": [
    "arr = bubble_sort(arr)\n",
    "pygame.quit()"
   ]
  },
  {
   "cell_type": "code",
   "execution_count": 9,
   "id": "bd3de0a6",
   "metadata": {},
   "outputs": [
    {
     "name": "stdout",
     "output_type": "stream",
     "text": [
      "[0, 7, 7, 15, 15, 16, 22, 24, 24, 39, 39, 42, 58, 65, 70, 78, 79, 87, 88, 91, 93, 94, 99, 99, 108, 130, 134, 135, 141, 149, 149, 150, 156, 162, 180, 189, 192, 198, 204, 205, 210, 214, 215, 223, 225, 230, 239, 242, 244, 244]\n"
     ]
    }
   ],
   "source": [
    "print(arr)"
   ]
  },
  {
   "cell_type": "code",
   "execution_count": null,
   "id": "e7551ceb",
   "metadata": {},
   "outputs": [],
   "source": []
  }
 ],
 "metadata": {
  "kernelspec": {
   "display_name": "Python 3 (ipykernel)",
   "language": "python",
   "name": "python3"
  },
  "language_info": {
   "codemirror_mode": {
    "name": "ipython",
    "version": 3
   },
   "file_extension": ".py",
   "mimetype": "text/x-python",
   "name": "python",
   "nbconvert_exporter": "python",
   "pygments_lexer": "ipython3",
   "version": "3.10.4"
  }
 },
 "nbformat": 4,
 "nbformat_minor": 5
}
