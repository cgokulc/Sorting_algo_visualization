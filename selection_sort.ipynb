{
 "cells": [
  {
   "cell_type": "code",
   "execution_count": 1,
   "id": "61594ce4",
   "metadata": {},
   "outputs": [
    {
     "name": "stdout",
     "output_type": "stream",
     "text": [
      "pygame 2.1.2 (SDL 2.0.16, Python 3.10.4)\n",
      "Hello from the pygame community. https://www.pygame.org/contribute.html\n"
     ]
    }
   ],
   "source": [
    "import random\n",
    "import pygame\n",
    "import time\n",
    "pygame.font.init()  "
   ]
  },
  {
   "cell_type": "code",
   "execution_count": 2,
   "id": "27fd3380",
   "metadata": {},
   "outputs": [],
   "source": [
    "def sel_sort_step(arr,i,l):\n",
    "    small = i\n",
    "    for j in range(i+1,l):\n",
    "        if(arr[j] < arr[small]):\n",
    "            small = j\n",
    "    draw(arr,small)\n",
    "    pygame.time.delay(100)\n",
    "    temp = arr[small]\n",
    "    arr[small] = arr[i]\n",
    "    arr[i] = temp\n",
    "    return arr"
   ]
  },
  {
   "cell_type": "code",
   "execution_count": 3,
   "id": "ae790b23",
   "metadata": {},
   "outputs": [],
   "source": [
    "def gen_arr(l):\n",
    "    random.seed(random.randint(0,100))\n",
    "    arr = []\n",
    "    for i in range(l):\n",
    "        arr.append(random.randint(0,l*5))\n",
    "    return arr"
   ]
  },
  {
   "cell_type": "code",
   "execution_count": 4,
   "id": "40165409",
   "metadata": {},
   "outputs": [],
   "source": [
    "def draw(arr,c):\n",
    "    #pygame.draw.line(screen, (166,166,166), (0,50), (900,50), 2)\n",
    "    screen.fill((55, 55, 55))\n",
    "    pygame.display.update()\n",
    "    width = int(900/len(arr))\n",
    "    l = len(arr)\n",
    "    for i in range(l):\n",
    "        if(c == -1):\n",
    "            pygame.draw.line(screen, (200,200,200), (i*width,650), (i*width,650-int(600*arr[i]/(l*5))), width)\n",
    "        elif(i == c):\n",
    "            pygame.draw.line(screen, (222,22,66), (i*width,650), (i*width,650-int(600*arr[i]/(l*5))), width)\n",
    "        else:\n",
    "            pygame.draw.line(screen, (66,22,222), (i*width,650), (i*width,650-int(600*arr[i]/(l*5))), width)\n",
    "    pygame.display.update()"
   ]
  },
  {
   "cell_type": "code",
   "execution_count": 5,
   "id": "d6b440c6",
   "metadata": {},
   "outputs": [],
   "source": [
    "def sel_sort(arr):\n",
    "    l = len(arr)\n",
    "    for i in range(l):\n",
    "        arr = sel_sort_step(arr,i,l)\n",
    "        draw(arr,i)\n",
    "        pygame.time.delay(100)\n",
    "    draw(arr,-1)\n",
    "    pygame.time.delay(3000)\n",
    "    return arr"
   ]
  },
  {
   "cell_type": "code",
   "execution_count": 6,
   "id": "2cfdd45e",
   "metadata": {},
   "outputs": [
    {
     "name": "stdout",
     "output_type": "stream",
     "text": [
      "[39, 474, 109, 74, 155, 357, 460, 121, 254, 12, 368, 19, 51, 166, 260, 169, 431, 29, 267, 353, 483, 451, 240, 189, 307, 0, 277, 386, 400, 64, 268, 4, 248, 374, 395, 431, 103, 428, 147, 488, 473, 103, 228, 41, 171, 61, 18, 500, 269, 57, 372, 81, 224, 10, 220, 25, 471, 19, 284, 180, 116, 83, 239, 158, 372, 475, 252, 85, 273, 416, 416, 378, 153, 291, 294, 294, 42, 394, 16, 300, 148, 117, 147, 168, 40, 124, 339, 205, 430, 148, 218, 356, 35, 406, 244, 4, 416, 92, 228, 83]\n"
     ]
    }
   ],
   "source": [
    "arr = gen_arr(100)\n",
    "print(arr)"
   ]
  },
  {
   "cell_type": "code",
   "execution_count": 7,
   "id": "c36587d4",
   "metadata": {},
   "outputs": [
    {
     "data": {
      "text/plain": [
       "4000"
      ]
     },
     "execution_count": 7,
     "metadata": {},
     "output_type": "execute_result"
    }
   ],
   "source": [
    "screen = pygame.display.set_mode((900,650)) \n",
    "pygame.display.set_caption(\"SELECTION SORTING VISUALISER\")\n",
    "screen.fill((55, 55, 55))\n",
    "pygame.display.update()\n",
    "pygame.time.delay(4000)"
   ]
  },
  {
   "cell_type": "code",
   "execution_count": 8,
   "id": "9bdca851",
   "metadata": {},
   "outputs": [],
   "source": [
    "arr = sel_sort(arr)\n",
    "pygame.quit()"
   ]
  },
  {
   "cell_type": "code",
   "execution_count": 9,
   "id": "0b386fa6",
   "metadata": {},
   "outputs": [
    {
     "name": "stdout",
     "output_type": "stream",
     "text": [
      "[0, 4, 4, 10, 12, 16, 18, 19, 19, 25, 29, 35, 39, 40, 41, 42, 51, 57, 61, 64, 74, 81, 83, 83, 85, 92, 103, 103, 109, 116, 117, 121, 124, 147, 147, 148, 148, 153, 155, 158, 166, 168, 169, 171, 180, 189, 205, 218, 220, 224, 228, 228, 239, 240, 244, 248, 252, 254, 260, 267, 268, 269, 273, 277, 284, 291, 294, 294, 300, 307, 339, 353, 356, 357, 368, 372, 372, 374, 378, 386, 394, 395, 400, 406, 416, 416, 416, 428, 430, 431, 431, 451, 460, 471, 473, 474, 475, 483, 488, 500]\n"
     ]
    }
   ],
   "source": [
    "print(arr)"
   ]
  },
  {
   "cell_type": "code",
   "execution_count": null,
   "id": "93f95f07",
   "metadata": {},
   "outputs": [],
   "source": []
  }
 ],
 "metadata": {
  "kernelspec": {
   "display_name": "Python 3 (ipykernel)",
   "language": "python",
   "name": "python3"
  },
  "language_info": {
   "codemirror_mode": {
    "name": "ipython",
    "version": 3
   },
   "file_extension": ".py",
   "mimetype": "text/x-python",
   "name": "python",
   "nbconvert_exporter": "python",
   "pygments_lexer": "ipython3",
   "version": "3.10.4"
  }
 },
 "nbformat": 4,
 "nbformat_minor": 5
}
